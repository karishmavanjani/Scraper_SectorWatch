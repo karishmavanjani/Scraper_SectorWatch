{
 "cells": [
  {
   "cell_type": "markdown",
   "metadata": {},
   "source": [
    "# Data Scraper For SectorWatch "
   ]
  },
  {
   "cell_type": "code",
   "execution_count": 1,
   "metadata": {},
   "outputs": [],
   "source": [
    "import csv"
   ]
  },
  {
   "cell_type": "code",
   "execution_count": 2,
   "metadata": {},
   "outputs": [],
   "source": [
    "from bs4 import BeautifulSoup"
   ]
  },
  {
   "cell_type": "code",
   "execution_count": 3,
   "metadata": {},
   "outputs": [],
   "source": [
    "import requests"
   ]
  },
  {
   "cell_type": "code",
   "execution_count": 4,
   "metadata": {},
   "outputs": [],
   "source": [
    "import pandas as pd"
   ]
  },
  {
   "cell_type": "code",
   "execution_count": 16,
   "metadata": {},
   "outputs": [],
   "source": [
    "url = 'https://www.marketwatch.com/search?q=sectorwatch&mp=3264'"
   ]
  },
  {
   "cell_type": "code",
   "execution_count": 17,
   "metadata": {},
   "outputs": [],
   "source": [
    "response = requests.get(url)"
   ]
  },
  {
   "cell_type": "code",
   "execution_count": 18,
   "metadata": {},
   "outputs": [],
   "source": [
    "soup = BeautifulSoup(response.text,'html.parser')"
   ]
  },
  {
   "cell_type": "code",
   "execution_count": 19,
   "metadata": {},
   "outputs": [
    {
     "data": {
      "text/plain": [
       "'An AI model emits 5 times more CO2 than an average car in its lifetime'"
      ]
     },
     "execution_count": 19,
     "metadata": {},
     "output_type": "execute_result"
    }
   ],
   "source": [
    "soup.find('div',{'class':'searchresult'}).text[1:71]"
   ]
  },
  {
   "cell_type": "code",
   "execution_count": 21,
   "metadata": {},
   "outputs": [],
   "source": [
    "titles = soup.find_all('div',{'class':'searchresult'})"
   ]
  },
  {
   "cell_type": "code",
   "execution_count": 31,
   "metadata": {},
   "outputs": [
    {
     "name": "stdout",
     "output_type": "stream",
     "text": [
      "\n",
      "An AI model emits 5 times more CO2 than an average car in its lifetime\n",
      "\n",
      "How artificial intelligence could detect concussions in athletes\n",
      "\n",
      "\n",
      "Meet the companies aiming to become 'Airbnb on wheels'\n",
      "\n",
      "\n",
      "How to boost the sustainability of your bond portfolio\n",
      "\n",
      "\n",
      "How virtual and augmented reality could boost productivity by 21%\n",
      "\n",
      "\n",
      "Everything you need to know to invest in alternatives\n",
      "\n",
      "\n",
      "Here's what's stopping consumers from transitioning to green energy\n",
      "\n",
      "\n",
      "Why the tides are turning in the anti-trust debate against tech giants\n",
      "\n",
      "How computer simulation can make autonomous cars a reality\n",
      "\n",
      "\n",
      "How tech is reducing hospital-readmission rates\n",
      "\n",
      "\n",
      "Why investing in tech but not in employees doesn't yield results\n",
      "\n",
      "\n",
      "How AI can take the guesswork out of farming\n",
      "\n",
      "\n",
      "Here's how to build a fixed-income portfolio like a pro\n",
      "\n",
      "\n",
      "Why credit bureaus are transforming into data and software companies\n",
      "\n",
      "\n",
      "How medical 3D printing could solve the shortage of organ donations\n",
      "\n",
      "A\n"
     ]
    }
   ],
   "source": [
    "for i in titles:\n",
    "    print(i.text[0:71])"
   ]
  },
  {
   "cell_type": "code",
   "execution_count": 38,
   "metadata": {},
   "outputs": [],
   "source": [
    "names = []\n",
    "titles = soup.find_all('div',{'class':'searchresult'})\n",
    "for i in titles:\n",
    "    names.append(i.text[1:70])"
   ]
  },
  {
   "cell_type": "code",
   "execution_count": 39,
   "metadata": {},
   "outputs": [],
   "source": [
    "df = pd.DataFrame({'show_name': names})"
   ]
  },
  {
   "cell_type": "code",
   "execution_count": 40,
   "metadata": {},
   "outputs": [
    {
     "data": {
      "text/html": [
       "<div>\n",
       "<style scoped>\n",
       "    .dataframe tbody tr th:only-of-type {\n",
       "        vertical-align: middle;\n",
       "    }\n",
       "\n",
       "    .dataframe tbody tr th {\n",
       "        vertical-align: top;\n",
       "    }\n",
       "\n",
       "    .dataframe thead th {\n",
       "        text-align: right;\n",
       "    }\n",
       "</style>\n",
       "<table border=\"1\" class=\"dataframe\">\n",
       "  <thead>\n",
       "    <tr style=\"text-align: right;\">\n",
       "      <th></th>\n",
       "      <th>show_name</th>\n",
       "    </tr>\n",
       "  </thead>\n",
       "  <tbody>\n",
       "    <tr>\n",
       "      <th>0</th>\n",
       "      <td>An AI model emits 5 times more CO2 than an ave...</td>\n",
       "    </tr>\n",
       "    <tr>\n",
       "      <th>1</th>\n",
       "      <td>How artificial intelligence could detect concu...</td>\n",
       "    </tr>\n",
       "    <tr>\n",
       "      <th>2</th>\n",
       "      <td>Meet the companies aiming to become 'Airbnb on...</td>\n",
       "    </tr>\n",
       "    <tr>\n",
       "      <th>3</th>\n",
       "      <td>How to boost the sustainability of your bond p...</td>\n",
       "    </tr>\n",
       "    <tr>\n",
       "      <th>4</th>\n",
       "      <td>How virtual and augmented reality could boost ...</td>\n",
       "    </tr>\n",
       "  </tbody>\n",
       "</table>\n",
       "</div>"
      ],
      "text/plain": [
       "                                           show_name\n",
       "0  An AI model emits 5 times more CO2 than an ave...\n",
       "1  How artificial intelligence could detect concu...\n",
       "2  Meet the companies aiming to become 'Airbnb on...\n",
       "3  How to boost the sustainability of your bond p...\n",
       "4  How virtual and augmented reality could boost ..."
      ]
     },
     "execution_count": 40,
     "metadata": {},
     "output_type": "execute_result"
    }
   ],
   "source": [
    "df.head()"
   ]
  },
  {
   "cell_type": "code",
   "execution_count": 80,
   "metadata": {},
   "outputs": [],
   "source": [
    "def marketwatch_scraper(url):\n",
    "    response = requests.get(url)\n",
    "    soup = BeautifulSoup(response.text,'html.parser')\n",
    "    names = []\n",
    "    titles = soup.find_all('div',{'class':'searchresult'})\n",
    "    for i in titles:\n",
    "        names.append(i.text[1:71])\n",
    "    df = pd.DataFrame({'show_name': names})\n",
    "    df.to_csv(\"names.csv\")\n",
    "    pd.read_csv(\"names.csv\").head()"
   ]
  },
  {
   "cell_type": "markdown",
   "metadata": {},
   "source": [
    "//Enter Url to get names of the episode"
   ]
  },
  {
   "cell_type": "code",
   "execution_count": 81,
   "metadata": {},
   "outputs": [],
   "source": [
    "marketwatch_scraper('https://www.marketwatch.com/search?q=sectorwatch&mp=3264&o=31')"
   ]
  },
  {
   "cell_type": "code",
   "execution_count": null,
   "metadata": {},
   "outputs": [],
   "source": []
  }
 ],
 "metadata": {
  "kernelspec": {
   "display_name": "Python 3",
   "language": "python",
   "name": "python3"
  },
  "language_info": {
   "codemirror_mode": {
    "name": "ipython",
    "version": 3
   },
   "file_extension": ".py",
   "mimetype": "text/x-python",
   "name": "python",
   "nbconvert_exporter": "python",
   "pygments_lexer": "ipython3",
   "version": "3.7.2"
  }
 },
 "nbformat": 4,
 "nbformat_minor": 2
}
