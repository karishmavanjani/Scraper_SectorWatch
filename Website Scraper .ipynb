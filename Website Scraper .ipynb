{
 "cells": [
  {
   "cell_type": "markdown",
   "metadata": {},
   "source": [
    "# Data Scraper For SectorWatch "
   ]
  },
  {
   "cell_type": "code",
   "execution_count": 185,
   "metadata": {},
   "outputs": [],
   "source": [
    "import csv"
   ]
  },
  {
   "cell_type": "code",
   "execution_count": 220,
   "metadata": {},
   "outputs": [],
   "source": [
    "import re"
   ]
  },
  {
   "cell_type": "code",
   "execution_count": 221,
   "metadata": {},
   "outputs": [],
   "source": [
    "from bs4 import BeautifulSoup"
   ]
  },
  {
   "cell_type": "code",
   "execution_count": 222,
   "metadata": {},
   "outputs": [],
   "source": [
    "import requests"
   ]
  },
  {
   "cell_type": "code",
   "execution_count": 223,
   "metadata": {},
   "outputs": [],
   "source": [
    "import pandas as pd"
   ]
  },
  {
   "cell_type": "code",
   "execution_count": 224,
   "metadata": {},
   "outputs": [],
   "source": [
    "url = 'https://www.marketwatch.com/search?q=sectorwatch&mp=3264'"
   ]
  },
  {
   "cell_type": "code",
   "execution_count": 225,
   "metadata": {},
   "outputs": [],
   "source": [
    "response = requests.get(url)"
   ]
  },
  {
   "cell_type": "code",
   "execution_count": 226,
   "metadata": {},
   "outputs": [],
   "source": [
    "soup = BeautifulSoup(response.text,'html.parser')"
   ]
  },
  {
   "cell_type": "code",
   "execution_count": 227,
   "metadata": {},
   "outputs": [
    {
     "data": {
      "text/plain": [
       "'An AI model emits 5 times more CO2 than an average car in its lifetime'"
      ]
     },
     "execution_count": 227,
     "metadata": {},
     "output_type": "execute_result"
    }
   ],
   "source": [
    "soup.find('div',{'class':'searchresult'}).text[1:71] #spits out the first result"
   ]
  },
  {
   "cell_type": "code",
   "execution_count": 228,
   "metadata": {},
   "outputs": [],
   "source": [
    "titles = soup.find_all('div',{'class':'searchresult'})"
   ]
  },
  {
   "cell_type": "code",
   "execution_count": 229,
   "metadata": {},
   "outputs": [
    {
     "name": "stdout",
     "output_type": "stream",
     "text": [
      "An AI model emits 5 times more CO2 than an average car in its lifetime\n",
      "How artificial intelligence could detect concussions in athletes\n",
      "Meet the companies aiming to become 'Airbnb on wheels'\n",
      "How to boost the sustainability of your bond portfolio\n",
      "How virtual and augmented reality could boost productivity by 21%\n",
      "Everything you need to know to invest in alternatives\n",
      "Here's what's stopping consumers from transitioning to green energy\n",
      "Why the tides are turning in the anti-trust debate against tech giants\n",
      "How computer simulation can make autonomous cars a reality\n",
      "How tech is reducing hospital-readmission rates\n",
      "Why investing in tech but not in employees doesn't yield results\n",
      "How AI can take the guesswork out of farming\n",
      "Here's how to build a fixed-income portfolio like a pro\n",
      "Why credit bureaus are transforming into data and software companies\n",
      "How medical 3D printing could solve the shortage of organ donations\n"
     ]
    }
   ],
   "source": [
    "for i in titles:\n",
    "    print(i.a.text.strip())"
   ]
  },
  {
   "cell_type": "code",
   "execution_count": 230,
   "metadata": {},
   "outputs": [],
   "source": [
    "date = soup.find_all('div',{'class': 'deemphasized'})"
   ]
  },
  {
   "cell_type": "code",
   "execution_count": 231,
   "metadata": {},
   "outputs": [
    {
     "name": "stdout",
     "output_type": "stream",
     "text": [
      "6:31 a.m. July 26, 2019\r\n",
      "\t\t\t| MarketWatch.com\n",
      "6:30 a.m. July 23, 2019\r\n",
      "\t\t\t| MarketWatch.com\n",
      "6:34 a.m. July 16, 2019\r\n",
      "\t\t\t| MarketWatch.com\n",
      "10:41 a.m. July 15, 2019\r\n",
      "\t\t\t| MarketWatch.com\n",
      "12:33 p.m. July 8, 2019\r\n",
      "\t\t\t| MarketWatch.com\n",
      "6:29 a.m. July 2, 2019\r\n",
      "\t\t\t| MarketWatch.com\n",
      "6:50 a.m. June 28, 2019\r\n",
      "\t\t\t| MarketWatch.com\n",
      "1:06 a.m. June 27, 2019\r\n",
      "\t\t\t| MarketWatch.com\n",
      "4:25 p.m. June 25, 2019\r\n",
      "\t\t\t| MarketWatch.com\n",
      "6:34 a.m. June 20, 2019\r\n",
      "\t\t\t| MarketWatch.com\n",
      "7:26 a.m. June 17, 2019\r\n",
      "\t\t\t| MarketWatch.com\n",
      "6:55 a.m. June 12, 2019\r\n",
      "\t\t\t| MarketWatch.com\n",
      "2:55 p.m. June 11, 2019\r\n",
      "\t\t\t| MarketWatch.com\n",
      "6:47 a.m. June 5, 2019\r\n",
      "\t\t\t| MarketWatch.com\n",
      "8:31 a.m. May 30, 2019\r\n",
      "\t\t\t| MarketWatch.com\n"
     ]
    }
   ],
   "source": [
    "for i in date:\n",
    "    print(i.text.strip())"
   ]
  },
  {
   "cell_type": "code",
   "execution_count": 232,
   "metadata": {},
   "outputs": [],
   "source": [
    "episodeurl = soup.find_all('div',{'class': 'thumbnail'})"
   ]
  },
  {
   "cell_type": "code",
   "execution_count": 233,
   "metadata": {},
   "outputs": [
    {
     "name": "stdout",
     "output_type": "stream",
     "text": [
      "https://www.marketwatch.com/video/an-ai-model-emits-5-times-more-co2-than-an-average-car-in-its-lifetime-2019-07-26-61053140/E1465C1D-1CB8-47F6-88AC-7CE980A474C5.html\n",
      "https://www.marketwatch.com/video/how-artificial-intelligence-could-detect-concussions-in-athletes-2019-07-23-6105300/1577B9DA-672F-4C7E-B1F3-A5D194525C51.html\n",
      "https://www.marketwatch.com/video/meet-the-companies-aiming-to-become-airbnb-on-wheels-2019-07-16-61053413/66AE243A-C4A9-4DFD-BA3D-E9A8A34264FC.html\n",
      "https://www.marketwatch.com/video/how-to-boost-the-sustainability-of-your-bond-portfolio-2019-07-11/B67339F1-A6DE-410C-B5AF-27FA30070376.html\n",
      "https://www.marketwatch.com/video/how-ar-and-vr-could-boost-worker-productivity-by-21-2019-07-08-6105300/B155C1FD-59F6-4264-83FE-FC3B8D733B8E.html\n",
      "https://www.marketwatch.com/video/everything-you-need-to-know-to-invest-in-alternatives-2019-07-02-61052924/DEB8865E-CDD1-49C0-A3F6-BE4F19D55D68.html\n",
      "https://www.marketwatch.com/video/heres-whats-stopping-consumers-from-transitioning-to-green-energy-2019-06-28-61055054/48F525F4-EA72-4076-946C-00653DAA8DC2.html\n",
      "https://www.marketwatch.com/video/why-the-tides-are-turning-in-the-anti-trust-debate-against-tech-giants-2019-06-27-110560/082E91C0-84A4-4F54-B2C3-7929B086FA03.html\n",
      "https://www.marketwatch.com/video/how-computer-simulation-can-make-autonomous-cars-a-reality-2019-06-25-61055736/AFF4DD9E-FAE7-4816-8021-BE9450D13EC1.html\n",
      "https://www.marketwatch.com/video/how-tech-is-reducing-hospital-readmission-rates-2019-06-20-61053454/7E12D835-476D-457E-8061-118CF445F159.html\n",
      "https://www.marketwatch.com/video/why-investing-in-tech-but-not-in-employees-doesnt-yield-results-2019-06-17-71052637/54133E11-B94F-4BE7-813B-ED21961BA2AC.html\n",
      "https://www.marketwatch.com/video/how-ai-can-take-the-guesswork-out-of-farming-2019-06-12-61055535/94BE2B00-913B-4AAB-A4F6-249F70A43A5A.html\n",
      "https://www.marketwatch.com/video/heres-how-to-build-a-fixed-income-portfolio-like-a-pro-2019-06-10-61055854/CA9DDCFD-EA81-417D-9094-699E204E32DF.html\n",
      "https://www.marketwatch.com/video/why-credit-bureaus-are-transforming-into-data-and-software-companies-2019-06-05-61054739/5B80671C-24C1-4E06-9216-F1B28D9103E2.html\n",
      "https://www.marketwatch.com/video/how-medical-3d-printing-could-solve-for-shortage-of-organ-donations-2019-05-30-710500/43274A11-C66F-47E6-9E8E-0FB80119849A.html\n"
     ]
    }
   ],
   "source": [
    "  for i in episodeurl:\n",
    "       print(i.a['href'])"
   ]
  },
  {
   "cell_type": "code",
   "execution_count": 234,
   "metadata": {},
   "outputs": [],
   "source": [
    "names = []\n",
    "titles = soup.find_all('div',{'class':'searchresult'})\n",
    "for i in titles:\n",
    "     names.append(i.a.text.strip())\n",
    "    \n",
    "published = []\n",
    "date = soup.find_all('div',{'class': 'deemphasized'})\n",
    "for i in date:\n",
    "    published.append(i.text.strip())\n",
    "    \n",
    "link = []\n",
    "episodeurl = soup.find_all('div',{'class': 'thumbnail'})\n",
    "for i in episodeurl:\n",
    "     link.append(i.a['href'])  "
   ]
  },
  {
   "cell_type": "code",
   "execution_count": 235,
   "metadata": {},
   "outputs": [],
   "source": [
    "df = pd.DataFrame({'show_name': names,'date_published':published, 'marketwatch_link':link })"
   ]
  },
  {
   "cell_type": "code",
   "execution_count": 236,
   "metadata": {},
   "outputs": [
    {
     "data": {
      "text/html": [
       "<div>\n",
       "<style scoped>\n",
       "    .dataframe tbody tr th:only-of-type {\n",
       "        vertical-align: middle;\n",
       "    }\n",
       "\n",
       "    .dataframe tbody tr th {\n",
       "        vertical-align: top;\n",
       "    }\n",
       "\n",
       "    .dataframe thead th {\n",
       "        text-align: right;\n",
       "    }\n",
       "</style>\n",
       "<table border=\"1\" class=\"dataframe\">\n",
       "  <thead>\n",
       "    <tr style=\"text-align: right;\">\n",
       "      <th></th>\n",
       "      <th>show_name</th>\n",
       "      <th>date_published</th>\n",
       "      <th>marketwatch_link</th>\n",
       "    </tr>\n",
       "  </thead>\n",
       "  <tbody>\n",
       "    <tr>\n",
       "      <th>0</th>\n",
       "      <td>An AI model emits 5 times more CO2 than an ave...</td>\n",
       "      <td>6:31 a.m. July 26, 2019\\r\\n\\t\\t\\t| MarketWatch...</td>\n",
       "      <td>https://www.marketwatch.com/video/an-ai-model-...</td>\n",
       "    </tr>\n",
       "    <tr>\n",
       "      <th>1</th>\n",
       "      <td>How artificial intelligence could detect concu...</td>\n",
       "      <td>6:30 a.m. July 23, 2019\\r\\n\\t\\t\\t| MarketWatch...</td>\n",
       "      <td>https://www.marketwatch.com/video/how-artifici...</td>\n",
       "    </tr>\n",
       "    <tr>\n",
       "      <th>2</th>\n",
       "      <td>Meet the companies aiming to become 'Airbnb on...</td>\n",
       "      <td>6:34 a.m. July 16, 2019\\r\\n\\t\\t\\t| MarketWatch...</td>\n",
       "      <td>https://www.marketwatch.com/video/meet-the-com...</td>\n",
       "    </tr>\n",
       "    <tr>\n",
       "      <th>3</th>\n",
       "      <td>How to boost the sustainability of your bond p...</td>\n",
       "      <td>10:41 a.m. July 15, 2019\\r\\n\\t\\t\\t| MarketWatc...</td>\n",
       "      <td>https://www.marketwatch.com/video/how-to-boost...</td>\n",
       "    </tr>\n",
       "    <tr>\n",
       "      <th>4</th>\n",
       "      <td>How virtual and augmented reality could boost ...</td>\n",
       "      <td>12:33 p.m. July 8, 2019\\r\\n\\t\\t\\t| MarketWatch...</td>\n",
       "      <td>https://www.marketwatch.com/video/how-ar-and-v...</td>\n",
       "    </tr>\n",
       "  </tbody>\n",
       "</table>\n",
       "</div>"
      ],
      "text/plain": [
       "                                           show_name  \\\n",
       "0  An AI model emits 5 times more CO2 than an ave...   \n",
       "1  How artificial intelligence could detect concu...   \n",
       "2  Meet the companies aiming to become 'Airbnb on...   \n",
       "3  How to boost the sustainability of your bond p...   \n",
       "4  How virtual and augmented reality could boost ...   \n",
       "\n",
       "                                      date_published  \\\n",
       "0  6:31 a.m. July 26, 2019\\r\\n\\t\\t\\t| MarketWatch...   \n",
       "1  6:30 a.m. July 23, 2019\\r\\n\\t\\t\\t| MarketWatch...   \n",
       "2  6:34 a.m. July 16, 2019\\r\\n\\t\\t\\t| MarketWatch...   \n",
       "3  10:41 a.m. July 15, 2019\\r\\n\\t\\t\\t| MarketWatc...   \n",
       "4  12:33 p.m. July 8, 2019\\r\\n\\t\\t\\t| MarketWatch...   \n",
       "\n",
       "                                    marketwatch_link  \n",
       "0  https://www.marketwatch.com/video/an-ai-model-...  \n",
       "1  https://www.marketwatch.com/video/how-artifici...  \n",
       "2  https://www.marketwatch.com/video/meet-the-com...  \n",
       "3  https://www.marketwatch.com/video/how-to-boost...  \n",
       "4  https://www.marketwatch.com/video/how-ar-and-v...  "
      ]
     },
     "execution_count": 236,
     "metadata": {},
     "output_type": "execute_result"
    }
   ],
   "source": [
    "df.head()"
   ]
  },
  {
   "cell_type": "code",
   "execution_count": 237,
   "metadata": {},
   "outputs": [],
   "source": [
    "def marketwatch_scraper(url):\n",
    "    response = requests.get(url)\n",
    "    soup = BeautifulSoup(response.text,'html.parser')\n",
    "    \n",
    "    names = []\n",
    "    titles = soup.find_all('div',{'class':'searchresult'})\n",
    "    for i in titles:\n",
    "        names.append(i.text[1:71])\n",
    "        \n",
    "    published = []\n",
    "    date = soup.find_all('div',{'class': 'deemphasized'})\n",
    "    for i in date:\n",
    "        published.append(i.text.strip())\n",
    "    \n",
    "    link = []\n",
    "    episodeurl = soup.find_all('div',{'class': 'thumbnail'})\n",
    "    for i in episodeurl:\n",
    "        link.append(i.a['href'])   \n",
    "    \n",
    "    df = pd.DataFrame({'show_name': names,'date_published':published, 'marketwatch_link':link })\n",
    "    df.to_csv(\"Sectorwatch_Production.csv\")\n",
    "    #pd.read_csv(\"Sectorwatch_Production.csv\").head()"
   ]
  },
  {
   "cell_type": "markdown",
   "metadata": {},
   "source": [
    "//Enter Url to perform the magic aka get the data for the page"
   ]
  },
  {
   "cell_type": "code",
   "execution_count": 238,
   "metadata": {},
   "outputs": [],
   "source": [
    "marketwatch_scraper('https://www.marketwatch.com/search?q=sectorwatch&mp=3264')"
   ]
  },
  {
   "cell_type": "code",
   "execution_count": 240,
   "metadata": {},
   "outputs": [],
   "source": [
    "marketwatch_scraper('https://www.marketwatch.com/search?q=sectorwatch&mp=3264&o=16')"
   ]
  },
  {
   "cell_type": "code",
   "execution_count": 241,
   "metadata": {},
   "outputs": [],
   "source": [
    "marketwatch_scraper('https://www.marketwatch.com/search?q=sectorwatch&mp=3264&o=31')"
   ]
  },
  {
   "cell_type": "code",
   "execution_count": null,
   "metadata": {},
   "outputs": [],
   "source": [
    "marketwatch_scraper('https://www.marketwatch.com/search?q=sectorwatch&mp=3264+46')"
   ]
  },
  {
   "cell_type": "code",
   "execution_count": 218,
   "metadata": {},
   "outputs": [
    {
     "data": {
      "text/plain": [
       "'https://www.marketwatch.com/search?q=sectorwatch&mp=3264&o=16'"
      ]
     },
     "execution_count": 218,
     "metadata": {},
     "output_type": "execute_result"
    }
   ],
   "source": [
    "#url.replace('3264', '3264&o=16')"
   ]
  },
  {
   "cell_type": "code",
   "execution_count": null,
   "metadata": {},
   "outputs": [],
   "source": [
    "#marketwatch_scraper('https://www.marketwatch.com/search?q=sectorwatch&mp=3264')"
   ]
  },
  {
   "cell_type": "code",
   "execution_count": null,
   "metadata": {},
   "outputs": [],
   "source": [
    "#df.to_csv(\"Sectorwatch_Production_Page2.csv\")\n",
    "#pd.read_csv(\"Sectorwatch_Production_Page2.csv\").head()"
   ]
  }
 ],
 "metadata": {
  "kernelspec": {
   "display_name": "Python 3",
   "language": "python",
   "name": "python3"
  },
  "language_info": {
   "codemirror_mode": {
    "name": "ipython",
    "version": 3
   },
   "file_extension": ".py",
   "mimetype": "text/x-python",
   "name": "python",
   "nbconvert_exporter": "python",
   "pygments_lexer": "ipython3",
   "version": "3.7.2"
  }
 },
 "nbformat": 4,
 "nbformat_minor": 2
}
