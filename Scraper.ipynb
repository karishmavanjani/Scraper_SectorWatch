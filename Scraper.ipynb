{
 "cells": [
  {
   "cell_type": "markdown",
   "metadata": {},
   "source": [
    "# Data Scraper For SectorWatch "
   ]
  },
  {
   "cell_type": "code",
   "execution_count": 1,
   "metadata": {},
   "outputs": [],
   "source": [
    "import csv"
   ]
  },
  {
   "cell_type": "code",
   "execution_count": 2,
   "metadata": {},
   "outputs": [],
   "source": [
    "from bs4 import BeautifulSoup"
   ]
  },
  {
   "cell_type": "code",
   "execution_count": 3,
   "metadata": {},
   "outputs": [],
   "source": [
    "import requests"
   ]
  },
  {
   "cell_type": "code",
   "execution_count": 4,
   "metadata": {},
   "outputs": [],
   "source": [
    "import pandas as pd"
   ]
  },
  {
   "cell_type": "code",
   "execution_count": 16,
   "metadata": {},
   "outputs": [],
   "source": [
    "url = 'https://www.marketwatch.com/search?q=sectorwatch&mp=3264'"
   ]
  },
  {
   "cell_type": "code",
   "execution_count": 17,
   "metadata": {},
   "outputs": [],
   "source": [
    "response = requests.get(url)"
   ]
  },
  {
   "cell_type": "code",
   "execution_count": 18,
   "metadata": {},
   "outputs": [],
   "source": [
    "soup = BeautifulSoup(response.text,'html.parser')"
   ]
  },
  {
   "cell_type": "code",
   "execution_count": 19,
   "metadata": {},
   "outputs": [
    {
     "data": {
      "text/plain": [
       "'An AI model emits 5 times more CO2 than an average car in its lifetime'"
      ]
     },
     "execution_count": 19,
     "metadata": {},
     "output_type": "execute_result"
    }
   ],
   "source": [
    "soup.find('div',{'class':'searchresult'}).text[1:71]"
   ]
  },
  {
   "cell_type": "code",
   "execution_count": 21,
   "metadata": {},
   "outputs": [],
   "source": [
    "titles = soup.find_all('div',{'class':'searchresult'})"
   ]
  },
  {
   "cell_type": "code",
   "execution_count": 31,
   "metadata": {},
   "outputs": [
    {
     "name": "stdout",
     "output_type": "stream",
     "text": [
      "\n",
      "An AI model emits 5 times more CO2 than an average car in its lifetime\n",
      "\n",
      "How artificial intelligence could detect concussions in athletes\n",
      "\n",
      "\n",
      "Meet the companies aiming to become 'Airbnb on wheels'\n",
      "\n",
      "\n",
      "How to boost the sustainability of your bond portfolio\n",
      "\n",
      "\n",
      "How virtual and augmented reality could boost productivity by 21%\n",
      "\n",
      "\n",
      "Everything you need to know to invest in alternatives\n",
      "\n",
      "\n",
      "Here's what's stopping consumers from transitioning to green energy\n",
      "\n",
      "\n",
      "Why the tides are turning in the anti-trust debate against tech giants\n",
      "\n",
      "How computer simulation can make autonomous cars a reality\n",
      "\n",
      "\n",
      "How tech is reducing hospital-readmission rates\n",
      "\n",
      "\n",
      "Why investing in tech but not in employees doesn't yield results\n",
      "\n",
      "\n",
      "How AI can take the guesswork out of farming\n",
      "\n",
      "\n",
      "Here's how to build a fixed-income portfolio like a pro\n",
      "\n",
      "\n",
      "Why credit bureaus are transforming into data and software companies\n",
      "\n",
      "\n",
      "How medical 3D printing could solve the shortage of organ donations\n",
      "\n",
      "A\n"
     ]
    }
   ],
   "source": [
    "for i in titles:\n",
    "    print(i.text[0:71])"
   ]
  },
  {
   "cell_type": "code",
   "execution_count": 38,
   "metadata": {},
   "outputs": [],
   "source": [
    "names = []\n",
    "titles = soup.find_all('div',{'class':'searchresult'})\n",
    "for i in titles:\n",
    "    names.append(i.text[1:70])"
   ]
  },
  {
   "cell_type": "code",
   "execution_count": 39,
   "metadata": {},
   "outputs": [],
   "source": [
    "df = pd.DataFrame({'show_name': names})"
   ]
  },
  {
   "cell_type": "code",
   "execution_count": 40,
   "metadata": {},
   "outputs": [
    {
     "data": {
      "text/html": [
       "<div>\n",
       "<style scoped>\n",
       "    .dataframe tbody tr th:only-of-type {\n",
       "        vertical-align: middle;\n",
       "    }\n",
       "\n",
       "    .dataframe tbody tr th {\n",
       "        vertical-align: top;\n",
       "    }\n",
       "\n",
       "    .dataframe thead th {\n",
       "        text-align: right;\n",
       "    }\n",
       "</style>\n",
       "<table border=\"1\" class=\"dataframe\">\n",
       "  <thead>\n",
       "    <tr style=\"text-align: right;\">\n",
       "      <th></th>\n",
       "      <th>show_name</th>\n",
       "    </tr>\n",
       "  </thead>\n",
       "  <tbody>\n",
       "    <tr>\n",
       "      <th>0</th>\n",
       "      <td>An AI model emits 5 times more CO2 than an ave...</td>\n",
       "    </tr>\n",
       "    <tr>\n",
       "      <th>1</th>\n",
       "      <td>How artificial intelligence could detect concu...</td>\n",
       "    </tr>\n",
       "    <tr>\n",
       "      <th>2</th>\n",
       "      <td>Meet the companies aiming to become 'Airbnb on...</td>\n",
       "    </tr>\n",
       "    <tr>\n",
       "      <th>3</th>\n",
       "      <td>How to boost the sustainability of your bond p...</td>\n",
       "    </tr>\n",
       "    <tr>\n",
       "      <th>4</th>\n",
       "      <td>How virtual and augmented reality could boost ...</td>\n",
       "    </tr>\n",
       "  </tbody>\n",
       "</table>\n",
       "</div>"
      ],
      "text/plain": [
       "                                           show_name\n",
       "0  An AI model emits 5 times more CO2 than an ave...\n",
       "1  How artificial intelligence could detect concu...\n",
       "2  Meet the companies aiming to become 'Airbnb on...\n",
       "3  How to boost the sustainability of your bond p...\n",
       "4  How virtual and augmented reality could boost ..."
      ]
     },
     "execution_count": 40,
     "metadata": {},
     "output_type": "execute_result"
    }
   ],
   "source": [
    "df.head()"
   ]
  },
  {
   "cell_type": "code",
   "execution_count": 61,
   "metadata": {},
   "outputs": [],
   "source": [
    "def marketwatch_scraper(url):\n",
    "    response = requests.get(url)\n",
    "    soup = BeautifulSoup(response.text,'html.parser')\n",
    "    names = []\n",
    "    titles = soup.find_all('div',{'class':'searchresult'})\n",
    "    for i in titles:\n",
    "        names.append(i.text[1:71])\n",
    "    df = pd.DataFrame({'show_name': names})\n",
    "    return df"
   ]
  },
  {
   "cell_type": "markdown",
   "metadata": {},
   "source": [
    "//Enter Url to get names of the episode"
   ]
  },
  {
   "cell_type": "code",
   "execution_count": 62,
   "metadata": {},
   "outputs": [
    {
     "data": {
      "text/html": [
       "<div>\n",
       "<style scoped>\n",
       "    .dataframe tbody tr th:only-of-type {\n",
       "        vertical-align: middle;\n",
       "    }\n",
       "\n",
       "    .dataframe tbody tr th {\n",
       "        vertical-align: top;\n",
       "    }\n",
       "\n",
       "    .dataframe thead th {\n",
       "        text-align: right;\n",
       "    }\n",
       "</style>\n",
       "<table border=\"1\" class=\"dataframe\">\n",
       "  <thead>\n",
       "    <tr style=\"text-align: right;\">\n",
       "      <th></th>\n",
       "      <th>show_name</th>\n",
       "    </tr>\n",
       "  </thead>\n",
       "  <tbody>\n",
       "    <tr>\n",
       "      <th>0</th>\n",
       "      <td>Soon you'll be able to make payments from your...</td>\n",
       "    </tr>\n",
       "    <tr>\n",
       "      <th>1</th>\n",
       "      <td>How to approach cannabis as an investor, not a...</td>\n",
       "    </tr>\n",
       "    <tr>\n",
       "      <th>2</th>\n",
       "      <td>Companies are spending more on AI. But are the...</td>\n",
       "    </tr>\n",
       "    <tr>\n",
       "      <th>3</th>\n",
       "      <td>How automakers are preparing for the car-as-a-...</td>\n",
       "    </tr>\n",
       "    <tr>\n",
       "      <th>4</th>\n",
       "      <td>How 5G will revolutionize gaming, movies and e...</td>\n",
       "    </tr>\n",
       "    <tr>\n",
       "      <th>5</th>\n",
       "      <td>Office tech's lagging behind home tech and tha...</td>\n",
       "    </tr>\n",
       "    <tr>\n",
       "      <th>6</th>\n",
       "      <td>Why the future classroom will have more VR app...</td>\n",
       "    </tr>\n",
       "    <tr>\n",
       "      <th>7</th>\n",
       "      <td>How an agnostic 'voice platform' could talk to...</td>\n",
       "    </tr>\n",
       "    <tr>\n",
       "      <th>8</th>\n",
       "      <td>Why these companies are committing to hiring h...</td>\n",
       "    </tr>\n",
       "    <tr>\n",
       "      <th>9</th>\n",
       "      <td>How 5G technology will revolutionize health ca...</td>\n",
       "    </tr>\n",
       "    <tr>\n",
       "      <th>10</th>\n",
       "      <td>Tech companies are hiring for 'new collar' job...</td>\n",
       "    </tr>\n",
       "    <tr>\n",
       "      <th>11</th>\n",
       "      <td>Why memory is still the missing piece of fully...</td>\n",
       "    </tr>\n",
       "    <tr>\n",
       "      <th>12</th>\n",
       "      <td>Who's to blame in a self-driving car crash? Au...</td>\n",
       "    </tr>\n",
       "    <tr>\n",
       "      <th>13</th>\n",
       "      <td>How the motorcycle industry's reinventing itse...</td>\n",
       "    </tr>\n",
       "    <tr>\n",
       "      <th>14</th>\n",
       "      <td>Personality tests are exploding. Just don't us...</td>\n",
       "    </tr>\n",
       "  </tbody>\n",
       "</table>\n",
       "</div>"
      ],
      "text/plain": [
       "                                            show_name\n",
       "0   Soon you'll be able to make payments from your...\n",
       "1   How to approach cannabis as an investor, not a...\n",
       "2   Companies are spending more on AI. But are the...\n",
       "3   How automakers are preparing for the car-as-a-...\n",
       "4   How 5G will revolutionize gaming, movies and e...\n",
       "5   Office tech's lagging behind home tech and tha...\n",
       "6   Why the future classroom will have more VR app...\n",
       "7   How an agnostic 'voice platform' could talk to...\n",
       "8   Why these companies are committing to hiring h...\n",
       "9   How 5G technology will revolutionize health ca...\n",
       "10  Tech companies are hiring for 'new collar' job...\n",
       "11  Why memory is still the missing piece of fully...\n",
       "12  Who's to blame in a self-driving car crash? Au...\n",
       "13  How the motorcycle industry's reinventing itse...\n",
       "14  Personality tests are exploding. Just don't us..."
      ]
     },
     "execution_count": 62,
     "metadata": {},
     "output_type": "execute_result"
    }
   ],
   "source": [
    "marketwatch_scraper('https://www.marketwatch.com/search?q=sectorwatch&mp=3264&o=31')"
   ]
  },
  {
   "cell_type": "code",
   "execution_count": null,
   "metadata": {},
   "outputs": [],
   "source": []
  }
 ],
 "metadata": {
  "kernelspec": {
   "display_name": "Python 3",
   "language": "python",
   "name": "python3"
  },
  "language_info": {
   "codemirror_mode": {
    "name": "ipython",
    "version": 3
   },
   "file_extension": ".py",
   "mimetype": "text/x-python",
   "name": "python",
   "nbconvert_exporter": "python",
   "pygments_lexer": "ipython3",
   "version": "3.7.2"
  }
 },
 "nbformat": 4,
 "nbformat_minor": 2
}
