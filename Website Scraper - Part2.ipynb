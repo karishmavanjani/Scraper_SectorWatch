{
 "cells": [
  {
   "cell_type": "markdown",
   "metadata": {},
   "source": [
    "# Data Scraper For MarketWatch CMS"
   ]
  },
  {
   "cell_type": "markdown",
   "metadata": {},
   "source": [
    "//Enter Url and filename and hit the play button. "
   ]
  },
  {
   "cell_type": "code",
   "execution_count": 1,
   "metadata": {},
   "outputs": [],
   "source": [
    "url = 'https://www.marketwatch.com/search?q=sectorwatch&m=Keyword&rpp=15&mp=3264&bd=false&rs=false&o=16'"
   ]
  },
  {
   "cell_type": "code",
   "execution_count": 2,
   "metadata": {},
   "outputs": [],
   "source": [
    "Filename = 'SectorWatch_page2.csv'"
   ]
  },
  {
   "cell_type": "code",
   "execution_count": 3,
   "metadata": {},
   "outputs": [],
   "source": [
    "import csv"
   ]
  },
  {
   "cell_type": "code",
   "execution_count": 4,
   "metadata": {},
   "outputs": [],
   "source": [
    "import re"
   ]
  },
  {
   "cell_type": "code",
   "execution_count": 5,
   "metadata": {},
   "outputs": [],
   "source": [
    "from bs4 import BeautifulSoup"
   ]
  },
  {
   "cell_type": "code",
   "execution_count": 6,
   "metadata": {},
   "outputs": [],
   "source": [
    "import requests"
   ]
  },
  {
   "cell_type": "code",
   "execution_count": 7,
   "metadata": {},
   "outputs": [],
   "source": [
    "import pandas as pd"
   ]
  },
  {
   "cell_type": "code",
   "execution_count": 8,
   "metadata": {},
   "outputs": [],
   "source": [
    "response = requests.get(url)"
   ]
  },
  {
   "cell_type": "code",
   "execution_count": 9,
   "metadata": {},
   "outputs": [],
   "source": [
    "soup = BeautifulSoup(response.text,'html.parser')"
   ]
  },
  {
   "cell_type": "code",
   "execution_count": 10,
   "metadata": {},
   "outputs": [
    {
     "data": {
      "text/plain": [
       "'Why credit bureaus are transforming into data and software companies\\n'"
      ]
     },
     "execution_count": 10,
     "metadata": {},
     "output_type": "execute_result"
    }
   ],
   "source": [
    "soup.find('div',{'class':'searchresult'}).text[1:71] #spits out the first result"
   ]
  },
  {
   "cell_type": "code",
   "execution_count": 11,
   "metadata": {},
   "outputs": [],
   "source": [
    "titles = soup.find_all('div',{'class':'searchresult'})"
   ]
  },
  {
   "cell_type": "code",
   "execution_count": 12,
   "metadata": {},
   "outputs": [
    {
     "name": "stdout",
     "output_type": "stream",
     "text": [
      "Why credit bureaus are transforming into data and software companies\n",
      "How medical 3D printing could solve the shortage of organ donations\n",
      "Why bitcoin tycoon Barry Silbert thinks bitcoin will replace gold\n",
      "Annual TV ad spend tops $70 billion. Will streaming get a piece?\n",
      "What is trapped value and how can companies unleash it?\n",
      "How the evolution of benefits is changing corporate culture\n",
      "Why brands that ignore diversity pay the price\n",
      "How these sector strategies could safeguard your portfolio\n",
      "Here's how augmented reality will transform how you shop online\n",
      "How tech is improving lives in the deaf and hard of hearing community\n",
      "Here's why employers are dramatically increasing benefits\n",
      "How VR could integrate everything - even your smart phone\n",
      "How 'alternative data' gives an investing edge - if you can afford it\n",
      "The real reason why the gender gap in business leadership persists\n",
      "What to do about the $25 billion lost annually due to power outages\n"
     ]
    }
   ],
   "source": [
    "for i in titles:\n",
    "    print(i.a.text.strip())"
   ]
  },
  {
   "cell_type": "code",
   "execution_count": 13,
   "metadata": {},
   "outputs": [],
   "source": [
    "date = soup.find_all('div',{'class': 'deemphasized'})"
   ]
  },
  {
   "cell_type": "code",
   "execution_count": 14,
   "metadata": {},
   "outputs": [
    {
     "name": "stdout",
     "output_type": "stream",
     "text": [
      "6:47 a.m. June 5, 2019\r\n",
      "\t\t\t| MarketWatch.com\n",
      "8:31 a.m. May 30, 2019\r\n",
      "\t\t\t| MarketWatch.com\n",
      "6:32 a.m. May 21, 2019\r\n",
      "\t\t\t| MarketWatch.com\n",
      "6:58 a.m. May 14, 2019\r\n",
      "\t\t\t| MarketWatch.com\n",
      "6:56 a.m. May 6, 2019\r\n",
      "\t\t\t| MarketWatch.com\n",
      "7:00 a.m. May 2, 2019\r\n",
      "\t\t\t| MarketWatch.com\n",
      "3:32 p.m. April 29, 2019\r\n",
      "\t\t\t| MarketWatch.com\n",
      "7:00 a.m. April 25, 2019\r\n",
      "\t\t\t| MarketWatch.com\n",
      "12:02 p.m. April 24, 2019\r\n",
      "\t\t\t| MarketWatch.com\n",
      "7:00 a.m. April 18, 2019\r\n",
      "\t\t\t| MarketWatch.com\n",
      "7:00 a.m. April 11, 2019\r\n",
      "\t\t\t| MarketWatch.com\n",
      "8:59 a.m. April 9, 2019\r\n",
      "\t\t\t| MarketWatch.com\n",
      "7:08 a.m. April 3, 2019\r\n",
      "\t\t\t| MarketWatch.com\n",
      "7:23 a.m. March 28, 2019\r\n",
      "\t\t\t| MarketWatch.com\n",
      "10:56 a.m. March 26, 2019\r\n",
      "\t\t\t| MarketWatch.com\n"
     ]
    }
   ],
   "source": [
    "for i in date:\n",
    "    print(i.text.strip())"
   ]
  },
  {
   "cell_type": "code",
   "execution_count": 15,
   "metadata": {},
   "outputs": [],
   "source": [
    "episodeurl = soup.find_all('div',{'class': 'thumbnail'})"
   ]
  },
  {
   "cell_type": "code",
   "execution_count": 16,
   "metadata": {},
   "outputs": [
    {
     "name": "stdout",
     "output_type": "stream",
     "text": [
      "https://www.marketwatch.com/video/why-credit-bureaus-are-transforming-into-data-and-software-companies-2019-06-05-61054739/5B80671C-24C1-4E06-9216-F1B28D9103E2.html\n",
      "https://www.marketwatch.com/video/how-medical-3d-printing-could-solve-for-shortage-of-organ-donations-2019-05-30-710500/43274A11-C66F-47E6-9E8E-0FB80119849A.html\n",
      "https://www.marketwatch.com/video/why-bitcoin-tycoon-barry-silbert-thinks-bitcoin-will-replace-gold-2019-05-21-61053252/3F359567-8A6C-4751-9CE3-7DE6735E0382.html\n",
      "https://www.marketwatch.com/video/annual-tv-ad-spend-tops-70-billion-will-streaming-get-a-piece-2019-05-14-61055850/C3A8C146-9C92-47A4-8091-2D645F6A3466.html\n",
      "https://www.marketwatch.com/video/what-is-trapped-value-and-how-can-companies-unleash-it-2019-05-06-61055648/CB4881D4-BFC5-4A49-B62A-28DE7AD2DBC5.html\n",
      "https://www.marketwatch.com/video/how-the-evolution-of-benefits-is-changing-corporate-culture-2019-05-02/099F99CA-B2AF-402F-871F-436BD0B4C863.html\n",
      "https://www.marketwatch.com/video/why-brands-that-ignore-diversity-pay-the-price-2019-04-26-710500/117E427D-2D27-428A-B9C2-448D0DD482E4.html\n",
      "https://www.marketwatch.com/video/how-these-sector-strategies-could-safeguard-your-portfolio-2019-04-25/B538D804-759C-4F75-91B7-59F4023FABB6.html\n",
      "https://www.marketwatch.com/video/heres-how-augmented-reality-will-transform-how-you-shop-online-2019-04-19-710500/2D50BE6D-AF39-437E-B75E-5320BB043B6C.html\n",
      "https://www.marketwatch.com/video/how-tech-is-improving-qualify-of-life-for-the-deaf-and-hard-of-hearing-2019-04-18/492E7DA0-A95A-48E4-A222-9D6FE8D9A364.html\n",
      "https://www.marketwatch.com/video/heres-why-employers-are-dramatically-increasing-benefits-2019-04-11-710500/C9F392B8-C1F9-4CCA-AD19-4B3FFF7C21C6.html\n",
      "https://www.marketwatch.com/video/how-vr-could-integrate-everything---even-your-smart-phone-2019-04-09/DFA547DD-5664-4A66-8512-3175BCE1C55B.html\n",
      "https://www.marketwatch.com/video/how-alternative-data-gives-an-investing-edge---if-you-can-afford-it-2019-04-03-7105846/D771D49E-D05A-4912-8968-574B05933C2E.html\n",
      "https://www.marketwatch.com/video/the-real-reason-why-the-gender-gap-in-business-leadership-persists-2019-03-28-71052338/4458815A-878F-4CCC-B0BB-3C201A088516.html\n",
      "https://www.marketwatch.com/video/what-to-do-about-the-25-billion-lost-annually-due-to-power-outages-2019-03-26/CFC8EC8D-EBD3-484D-A379-29697D7D88AB.html\n"
     ]
    }
   ],
   "source": [
    "  for i in episodeurl:\n",
    "       print(i.a['href'])"
   ]
  },
  {
   "cell_type": "code",
   "execution_count": 17,
   "metadata": {},
   "outputs": [],
   "source": [
    "names = []\n",
    "titles = soup.find_all('div',{'class':'searchresult'})\n",
    "for i in titles:\n",
    "     names.append(i.a.text.strip())\n",
    "    \n",
    "published = []\n",
    "date = soup.find_all('div',{'class': 'deemphasized'})\n",
    "for i in date:\n",
    "    published.append(i.text.strip())\n",
    "    \n",
    "link = []\n",
    "episodeurl = soup.find_all('div',{'class': 'thumbnail'})\n",
    "for i in episodeurl:\n",
    "     link.append(i.a['href'])  \n",
    "        "
   ]
  },
  {
   "cell_type": "code",
   "execution_count": 18,
   "metadata": {},
   "outputs": [],
   "source": [
    "df=pd.DataFrame({'show_name': names,'date_published':published, 'marketwatch_link':link })\n",
    "df=pd.DataFrame({'number': df.index + 1,'show_name': names,'date_published':published, 'marketwatch_link':link })"
   ]
  },
  {
   "cell_type": "code",
   "execution_count": 19,
   "metadata": {},
   "outputs": [
    {
     "data": {
      "text/html": [
       "<div>\n",
       "<style scoped>\n",
       "    .dataframe tbody tr th:only-of-type {\n",
       "        vertical-align: middle;\n",
       "    }\n",
       "\n",
       "    .dataframe tbody tr th {\n",
       "        vertical-align: top;\n",
       "    }\n",
       "\n",
       "    .dataframe thead th {\n",
       "        text-align: right;\n",
       "    }\n",
       "</style>\n",
       "<table border=\"1\" class=\"dataframe\">\n",
       "  <thead>\n",
       "    <tr style=\"text-align: right;\">\n",
       "      <th></th>\n",
       "      <th>number</th>\n",
       "      <th>show_name</th>\n",
       "      <th>date_published</th>\n",
       "      <th>marketwatch_link</th>\n",
       "    </tr>\n",
       "  </thead>\n",
       "  <tbody>\n",
       "    <tr>\n",
       "      <th>0</th>\n",
       "      <td>1</td>\n",
       "      <td>Why credit bureaus are transforming into data ...</td>\n",
       "      <td>6:47 a.m. June 5, 2019\\r\\n\\t\\t\\t| MarketWatch.com</td>\n",
       "      <td>https://www.marketwatch.com/video/why-credit-b...</td>\n",
       "    </tr>\n",
       "    <tr>\n",
       "      <th>1</th>\n",
       "      <td>2</td>\n",
       "      <td>How medical 3D printing could solve the shorta...</td>\n",
       "      <td>8:31 a.m. May 30, 2019\\r\\n\\t\\t\\t| MarketWatch.com</td>\n",
       "      <td>https://www.marketwatch.com/video/how-medical-...</td>\n",
       "    </tr>\n",
       "    <tr>\n",
       "      <th>2</th>\n",
       "      <td>3</td>\n",
       "      <td>Why bitcoin tycoon Barry Silbert thinks bitcoi...</td>\n",
       "      <td>6:32 a.m. May 21, 2019\\r\\n\\t\\t\\t| MarketWatch.com</td>\n",
       "      <td>https://www.marketwatch.com/video/why-bitcoin-...</td>\n",
       "    </tr>\n",
       "    <tr>\n",
       "      <th>3</th>\n",
       "      <td>4</td>\n",
       "      <td>Annual TV ad spend tops $70 billion. Will stre...</td>\n",
       "      <td>6:58 a.m. May 14, 2019\\r\\n\\t\\t\\t| MarketWatch.com</td>\n",
       "      <td>https://www.marketwatch.com/video/annual-tv-ad...</td>\n",
       "    </tr>\n",
       "    <tr>\n",
       "      <th>4</th>\n",
       "      <td>5</td>\n",
       "      <td>What is trapped value and how can companies un...</td>\n",
       "      <td>6:56 a.m. May 6, 2019\\r\\n\\t\\t\\t| MarketWatch.com</td>\n",
       "      <td>https://www.marketwatch.com/video/what-is-trap...</td>\n",
       "    </tr>\n",
       "  </tbody>\n",
       "</table>\n",
       "</div>"
      ],
      "text/plain": [
       "   number                                          show_name  \\\n",
       "0       1  Why credit bureaus are transforming into data ...   \n",
       "1       2  How medical 3D printing could solve the shorta...   \n",
       "2       3  Why bitcoin tycoon Barry Silbert thinks bitcoi...   \n",
       "3       4  Annual TV ad spend tops $70 billion. Will stre...   \n",
       "4       5  What is trapped value and how can companies un...   \n",
       "\n",
       "                                      date_published  \\\n",
       "0  6:47 a.m. June 5, 2019\\r\\n\\t\\t\\t| MarketWatch.com   \n",
       "1  8:31 a.m. May 30, 2019\\r\\n\\t\\t\\t| MarketWatch.com   \n",
       "2  6:32 a.m. May 21, 2019\\r\\n\\t\\t\\t| MarketWatch.com   \n",
       "3  6:58 a.m. May 14, 2019\\r\\n\\t\\t\\t| MarketWatch.com   \n",
       "4   6:56 a.m. May 6, 2019\\r\\n\\t\\t\\t| MarketWatch.com   \n",
       "\n",
       "                                    marketwatch_link  \n",
       "0  https://www.marketwatch.com/video/why-credit-b...  \n",
       "1  https://www.marketwatch.com/video/how-medical-...  \n",
       "2  https://www.marketwatch.com/video/why-bitcoin-...  \n",
       "3  https://www.marketwatch.com/video/annual-tv-ad...  \n",
       "4  https://www.marketwatch.com/video/what-is-trap...  "
      ]
     },
     "execution_count": 19,
     "metadata": {},
     "output_type": "execute_result"
    }
   ],
   "source": [
    "df.head()"
   ]
  },
  {
   "cell_type": "code",
   "execution_count": 20,
   "metadata": {},
   "outputs": [],
   "source": [
    "def marketwatch_scraper(url):\n",
    "    response = requests.get(url)\n",
    "    soup = BeautifulSoup(response.text,'html.parser')\n",
    "    \n",
    "    names = []\n",
    "    titles = soup.find_all('div',{'class':'searchresult'})\n",
    "    for i in titles:\n",
    "        names.append(i.text[1:71])\n",
    "        \n",
    "    published = []\n",
    "    date = soup.find_all('div',{'class': 'deemphasized'})\n",
    "    for i in date:\n",
    "        published.append(i.text.strip())\n",
    "    \n",
    "    link = []\n",
    "    episodeurl = soup.find_all('div',{'class': 'thumbnail'})\n",
    "    for i in episodeurl:\n",
    "        link.append(i.a['href'])   \n",
    "        \n",
    "\n",
    "    df = pd.DataFrame({ 'show_name': names,'date_published':published, 'marketwatch_link':link })\n",
    "    df = pd.DataFrame({'number': df.index + 1, 'show_name': names,'date_published':published, 'marketwatch_link':link })\n",
    "    #pd.read_csv(\"Sectorwatch_Production.csv\").head()"
   ]
  },
  {
   "cell_type": "code",
   "execution_count": 21,
   "metadata": {},
   "outputs": [],
   "source": [
    "df.to_csv(Filename, index= False)"
   ]
  }
 ],
 "metadata": {
  "kernelspec": {
   "display_name": "Python 3",
   "language": "python",
   "name": "python3"
  },
  "language_info": {
   "codemirror_mode": {
    "name": "ipython",
    "version": 3
   },
   "file_extension": ".py",
   "mimetype": "text/x-python",
   "name": "python",
   "nbconvert_exporter": "python",
   "pygments_lexer": "ipython3",
   "version": "3.7.2"
  }
 },
 "nbformat": 4,
 "nbformat_minor": 2
}
